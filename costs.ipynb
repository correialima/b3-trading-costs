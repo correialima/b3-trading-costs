{
 "cells": [
  {
   "cell_type": "markdown",
   "metadata": {},
   "source": [
    "## Custos Operacionais B3 - Mini ínidice"
   ]
  },
  {
   "cell_type": "code",
   "execution_count": 26,
   "metadata": {},
   "outputs": [],
   "source": [
    "import numpy as np"
   ]
  },
  {
   "cell_type": "code",
   "execution_count": 146,
   "metadata": {},
   "outputs": [],
   "source": [
    "# Cálculo de emolumentos e taxa de registro\n",
    "\n",
    "def emolumentos(adv):\n",
    "    \n",
    "    upper_bounds = [50,150,500,1500,3500,7500,15000]\n",
    "    preco = [0.63,0.58,0.54,0.49,0.44,0.39,0.36,0.32]\n",
    "    \n",
    "    p_medio = min([adv,upper_bounds[0]])*preco[0]\n",
    "    for i in range(1,len(upper_bounds)):\n",
    "        p_medio += max([min([adv,upper_bounds[i]])-upper_bounds[i-1],0])*preco[i]\n",
    "        \n",
    "    p_medio += max([adv-upper_bounds[-1],0])*preco[-1]\n",
    "    \n",
    "    return p_medio / adv * 0.21\n",
    "    \n",
    "def tx_registro(adv):\n",
    "    \n",
    "    upper_bounds = [50,150,500,1500,3500,7500,15000]\n",
    "    preco = [1.22,1.12,1.06,0.96,0.86,0.76,0.69,0.63]\n",
    "    \n",
    "    p_medio = min([adv,upper_bounds[0]])*preco[0]\n",
    "    for i in range(1,len(upper_bounds)):\n",
    "        p_medio += max([min([adv,upper_bounds[i]])-upper_bounds[i-1],0])*preco[i]\n",
    "    p_medio += max([adv-upper_bounds[-1],0])*preco[-1]\n",
    "    \n",
    "    return p_medio / adv * 0.21\n",
    "\n",
    "tx_liq = 0.30\n",
    "\n",
    "def incentivo(adv):\n",
    "    upper_bound = [5,50,150,1500]\n",
    "    desconto = [0.35,0.40,0.55,0.70,0.75]\n",
    "    \n",
    "    desc = desconto[0]\n",
    "    for i in range(len(upper_bound)):\n",
    "        if (adv > upper_bound[i]):\n",
    "            desc = desconto[i+1]\n",
    "            \n",
    "    return desc\n",
    "\n",
    "\n",
    "def custo(adv):\n",
    "    return (emolumentos(adv)+tx_registro(adv))*(1-incentivo(adv))+tx_liq"
   ]
  },
  {
   "cell_type": "code",
   "execution_count": 152,
   "metadata": {},
   "outputs": [
    {
     "name": "stdout",
     "output_type": "stream",
     "text": [
      "0.09380699999999999\n",
      "0.183288\n",
      "0.75\n",
      "0.3\n",
      "0.36927374999999996\n"
     ]
    }
   ],
   "source": [
    "i = 5000\n",
    "print(emolumentos(i))\n",
    "print(tx_registro(i))\n",
    "print(incentivo(i))\n",
    "print(tx_liq)\n",
    "print(custo(5000))"
   ]
  },
  {
   "cell_type": "code",
   "execution_count": null,
   "metadata": {},
   "outputs": [],
   "source": []
  }
 ],
 "metadata": {
  "kernelspec": {
   "display_name": "Python 3",
   "language": "python",
   "name": "python3"
  },
  "language_info": {
   "codemirror_mode": {
    "name": "ipython",
    "version": 3
   },
   "file_extension": ".py",
   "mimetype": "text/x-python",
   "name": "python",
   "nbconvert_exporter": "python",
   "pygments_lexer": "ipython3",
   "version": "3.8.1"
  }
 },
 "nbformat": 4,
 "nbformat_minor": 4
}
