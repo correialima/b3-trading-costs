{
 "cells": [
  {
   "cell_type": "markdown",
   "metadata": {},
   "source": [
    "## Custos Operacionais B3 - Mini ínidice"
   ]
  },
  {
   "cell_type": "code",
   "execution_count": null,
   "metadata": {},
   "outputs": [],
   "source": [
    "tx_liq = 0.30"
   ]
  },
  {
   "cell_type": "code",
   "execution_count": 7,
   "metadata": {},
   "outputs": [],
   "source": [
    "# Cálculo de emolumentos e taxa de registro\n",
    "\n",
    "def emolumentos(adv):\n",
    "    \n",
    "    if (adv <= 50):\n",
    "        tx_emol = 0.63\n",
    "    elif (adv <= 150):\n",
    "        tx_emol = 0.58\n",
    "    elif (adv <= 500):\n",
    "        tx_emol = 0.54\n",
    "    elif (adv <= 1500):\n",
    "        tx_emol = 0.49\n",
    "    elif (adv <= 3500):\n",
    "        tx_emol = 0.44\n",
    "    elif (adv <= 7500):\n",
    "        tx_emol = 0.39\n",
    "    elif (adv <= 15000):\n",
    "        tx_emol = 0.32\n",
    "        \n",
    "    return tx_emol\n",
    "\n",
    "def tx_registro(adv):\n",
    "    \n",
    "    \n"
   ]
  },
  {
   "cell_type": "code",
   "execution_count": 8,
   "metadata": {},
   "outputs": [
    {
     "data": {
      "text/plain": [
       "0.63"
      ]
     },
     "execution_count": 8,
     "metadata": {},
     "output_type": "execute_result"
    }
   ],
   "source": [
    "emolumentos(1)"
   ]
  },
  {
   "cell_type": "code",
   "execution_count": null,
   "metadata": {},
   "outputs": [],
   "source": []
  }
 ],
 "metadata": {
  "kernelspec": {
   "display_name": "Python 3",
   "language": "python",
   "name": "python3"
  },
  "language_info": {
   "codemirror_mode": {
    "name": "ipython",
    "version": 3
   },
   "file_extension": ".py",
   "mimetype": "text/x-python",
   "name": "python",
   "nbconvert_exporter": "python",
   "pygments_lexer": "ipython3",
   "version": "3.8.1"
  }
 },
 "nbformat": 4,
 "nbformat_minor": 4
}
